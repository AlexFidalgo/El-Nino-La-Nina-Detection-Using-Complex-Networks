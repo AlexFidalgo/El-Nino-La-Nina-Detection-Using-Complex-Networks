{
 "cells": [
  {
   "cell_type": "markdown",
   "metadata": {},
   "source": [
    "# É possível identificar o El Niño e El Niña em dados do clima usando redes complexas?"
   ]
  },
  {
   "cell_type": "code",
   "execution_count": 1,
   "metadata": {},
   "outputs": [],
   "source": [
    "import netCDF4 as nc\n",
    "import numpy as np\n",
    "import cdsapi\n",
    "import zipfile\n",
    "import os\n",
    "from tqdm import tqdm\n",
    "import pandas as pd\n",
    "import sys\n",
    "import dask.dataframe as dd\n",
    "import xarray as xr"
   ]
  },
  {
   "cell_type": "markdown",
   "metadata": {},
   "source": [
    "### Obtaining Data"
   ]
  },
  {
   "cell_type": "code",
   "execution_count": null,
   "metadata": {},
   "outputs": [],
   "source": [
    "base_extracted_folder_path = 'data/extracted_zip_data'\n",
    "\n",
    "if not os.path.exists(base_extracted_folder_path):\n",
    "    os.makedirs(base_extracted_folder_path)\n",
    "\n",
    "c = cdsapi.Client()\n",
    "\n",
    "days = [f'{i:02d}' for i in range(1, 32)]\n",
    "days = ['01']\n",
    "months = [f'{i:02d}' for i in range(1, 13)]\n",
    "years = [str(i) for i in range(1998, 2022)]\n",
    "\n",
    "for year in tqdm(years):\n",
    "\n",
    "    if int(year) >= 2006:\n",
    "        sensor_on_satellite = 'avhrr_on_metop_a'\n",
    "    else:\n",
    "        sensor_on_satellite = 'avhrr_on_noaa_15'\n",
    "\n",
    "    zip_file_path = f'download_{year}.zip'\n",
    "    extracted_folder_path = f'{base_extracted_folder_path}_{year}'\n",
    "    c.retrieve(\n",
    "        'satellite-sea-surface-temperature',\n",
    "        {\n",
    "            'version': '2_0',\n",
    "            'variable': 'all',\n",
    "            'format': 'zip',\n",
    "            'processinglevel': 'level_3c',\n",
    "            'sensor_on_satellite': sensor_on_satellite,\n",
    "            'month': months,\n",
    "            'day': days,\n",
    "            'year': [year],\n",
    "        },\n",
    "        zip_file_path\n",
    "    )\n",
    "\n",
    "    with zipfile.ZipFile(zip_file_path, 'r') as zip_ref:\n",
    "        zip_ref.extractall(extracted_folder_path)\n",
    "\n",
    "    os.remove(zip_file_path)\n",
    "\n",
    "    print(f\"Data extracted to: {extracted_folder_path}\")\n",
    "    print(f\"{zip_file_path} deleted.\")"
   ]
  },
  {
   "cell_type": "markdown",
   "metadata": {},
   "source": [
    "### Pre-analyzing  Data"
   ]
  },
  {
   "cell_type": "markdown",
   "metadata": {},
   "source": [
    "Let's analyze a single file to check its structure."
   ]
  },
  {
   "cell_type": "code",
   "execution_count": 2,
   "metadata": {},
   "outputs": [
    {
     "name": "stdout",
     "output_type": "stream",
     "text": [
      "Variable type: <class 'netCDF4._netCDF4.Dataset'>\n"
     ]
    }
   ],
   "source": [
    "data_dir_1998 = os.path.join(os.getcwd(), 'data', 'extracted_zip_data_1998')\n",
    "dataset = nc.Dataset(os.path.join(data_dir_1998, '19981001120000-ESACCI-L3C_GHRSST-SSTskin-AVHRR15_G-CDR2.0_day-v02.0-fv01.0.nc'))\n",
    "print(f\"Variable type: {type(dataset)}\")"
   ]
  },
  {
   "cell_type": "code",
   "execution_count": 3,
   "metadata": {},
   "outputs": [
    {
     "name": "stdout",
     "output_type": "stream",
     "text": [
      "(1, 3600, 7200)\n"
     ]
    }
   ],
   "source": [
    "sst = dataset.variables['sea_surface_temperature']\n",
    "sst_data = sst[:]\n",
    "print(sst_data.shape)"
   ]
  },
  {
   "cell_type": "markdown",
   "metadata": {},
   "source": [
    "_sea_surface_temperature_ variable: \n",
    "- Meaning: Temperature of the skin of the ocean\n",
    "- Units: K\n",
    "- Valid Range: (-200, +5000)\n",
    "- Scale Factor: 0.01 (factor by which raw data values are scaled)\n",
    "- Type: int16\n",
    "- Dimensions: (time, latitude, longitude)\n",
    "- Shape: (1, 3600, 7200), which means that there is 1 time point, 3600 latitude points, and 7200 longitude points.\n",
    "- Missing data is represented by -32768"
   ]
  },
  {
   "cell_type": "code",
   "execution_count": 4,
   "metadata": {},
   "outputs": [
    {
     "name": "stdout",
     "output_type": "stream",
     "text": [
      "columns: ['Latitude', 'Longitude', 'Sea_Surface_Temperature']\n",
      "\n"
     ]
    }
   ],
   "source": [
    "sst = sst[:].squeeze()\n",
    "\n",
    "lat = dataset.variables['lat'][:]\n",
    "lon = dataset.variables['lon'][:]\n",
    "\n",
    "lon_mesh, lat_mesh = np.meshgrid(lon, lat) # creates a meshgrid of latitude and longitude\n",
    "\n",
    "# Flatten the meshgrid and the sea surface temperature data\n",
    "lat_flat = lat_mesh.flatten()\n",
    "lon_flat = lon_mesh.flatten()\n",
    "sst_flat = sst.flatten()\n",
    "\n",
    "data = {\n",
    "    'Latitude': lat_flat,\n",
    "    'Longitude': lon_flat,\n",
    "    'Sea_Surface_Temperature': sst_flat\n",
    "}\n",
    "\n",
    "df = pd.DataFrame(data)\n",
    "\n",
    "print(f\"columns: {list(df.columns)}\\n\")"
   ]
  },
  {
   "cell_type": "code",
   "execution_count": 5,
   "metadata": {},
   "outputs": [
    {
     "name": "stdout",
     "output_type": "stream",
     "text": [
      "    Latitude  Longitude  Sea_Surface_Temperature\n",
      "0 -66.224998 -92.875000               271.290009\n",
      "1 -66.175003 -94.574997               271.279999\n",
      "2 -66.175003 -92.824997               271.380005\n",
      "3 -66.175003 -92.724998               271.470001\n",
      "4 -66.125000 -94.474998               271.339996\n"
     ]
    }
   ],
   "source": [
    "#Filtering Data\n",
    "df = df.dropna(subset=['Sea_Surface_Temperature']).reset_index(drop=True)\n",
    "print(df.head())"
   ]
  },
  {
   "cell_type": "markdown",
   "metadata": {},
   "source": [
    "### Cleaning, Filtering and Merging Data"
   ]
  },
  {
   "cell_type": "markdown",
   "metadata": {},
   "source": [
    "Now, we have a lot of .nc files: approximately 20 files per year, and each year is in a different folder. We'll group it into a single file, filtering unnecessary information."
   ]
  },
  {
   "cell_type": "code",
   "execution_count": 2,
   "metadata": {},
   "outputs": [],
   "source": [
    "def filter_data(data):\n",
    "    data = data.dropna(subset=['Sea_Surface_Temperature'])\n",
    "    data = data[data['Sea_Surface_Temperature'] != -32768]\n",
    "    return data"
   ]
  },
  {
   "cell_type": "code",
   "execution_count": 2,
   "metadata": {},
   "outputs": [],
   "source": [
    "def treat_data(data, year):\n",
    "    data[year] = year\n",
    "    return data"
   ]
  },
  {
   "cell_type": "code",
   "execution_count": 3,
   "metadata": {},
   "outputs": [],
   "source": [
    "def concatenate_filter_treat_data():\n",
    "    base_dir = os.path.join(os.getcwd(), 'data')\n",
    "    output_dir = os.path.join(base_dir, 'interim_results')\n",
    "    os.makedirs(output_dir, exist_ok=True)\n",
    "    all_data = pd.DataFrame()\n",
    "    location_dict = {}\n",
    "\n",
    "    for year in tqdm(range(1998, 2022)):\n",
    "        folder_name = f'extracted_zip_data_{year}'\n",
    "        folder_path = os.path.join(base_dir, folder_name)\n",
    "\n",
    "        data_from_year_list = []\n",
    "\n",
    "        for file_name in os.listdir(folder_path):\n",
    "            file_path = os.path.join(folder_path, file_name)\n",
    "\n",
    "            dataset = xr.open_dataset(file_path)\n",
    "            sst = dataset['sea_surface_temperature'].values.squeeze()\n",
    "            lat = dataset['lat'].values\n",
    "            lon = dataset['lon'].values\n",
    "\n",
    "            lon_mesh, lat_mesh = np.meshgrid(lon, lat)\n",
    "            lat_flat = lat_mesh.flatten()\n",
    "            lon_flat = lon_mesh.flatten()\n",
    "            sst_flat = sst.flatten()\n",
    "\n",
    "            data = pd.DataFrame({\n",
    "                'Latitude': lat_flat,\n",
    "                'Longitude': lon_flat,\n",
    "                'Sea_Surface_Temperature': sst_flat,\n",
    "            })\n",
    "\n",
    "            data_from_year_list.append(data)\n",
    "            # break\n",
    "\n",
    "        data_from_year = pd.concat(data_from_year_list)\n",
    "        data_from_year = filter_data(data_from_year)\n",
    "        data_from_year, location_dict = treat_data(data_from_year, year, location_dict)\n",
    "\n",
    "        all_data = pd.concat([all_data, data_from_year], ignore_index=True)\n",
    "\n",
    "        interim_output_file = os.path.join(output_dir, 'interim_aggregated_data.csv')\n",
    "        all_data.to_csv(interim_output_file, index=False)\n",
    "\n",
    "    final_output_file = os.path.join(base_dir, 'merged_data.csv')\n",
    "    all_data.to_csv(final_output_file, index=False)\n",
    "    return True\n"
   ]
  },
  {
   "cell_type": "code",
   "execution_count": 17,
   "metadata": {},
   "outputs": [
    {
     "name": "stderr",
     "output_type": "stream",
     "text": [
      "  0%|          | 0/24 [00:00<?, ?it/s]"
     ]
    },
    {
     "name": "stdout",
     "output_type": "stream",
     "text": [
      "Year 1998 concluded. Length of current table is 1.44e+07\n"
     ]
    },
    {
     "name": "stderr",
     "output_type": "stream",
     "text": [
      "  4%|▍         | 1/24 [01:32<35:30, 92.63s/it]"
     ]
    }
   ],
   "source": [
    "concatenate_filter_treat_data()"
   ]
  },
  {
   "cell_type": "markdown",
   "metadata": {},
   "source": [
    "RAM usage reached 99% after just 2 years, blindly concatenating them is not feasible. Let's modify the treat_data function to extract aggregated values from the year.\n",
    "We will group the data by geographic location."
   ]
  },
  {
   "cell_type": "code",
   "execution_count": 4,
   "metadata": {},
   "outputs": [],
   "source": [
    "def treat_data(data, year, location_dict):\n",
    "\n",
    "    location_ids = []\n",
    "\n",
    "    for _, row in data.iterrows():\n",
    "        lat_long = (row['Latitude'], row['Longitude'])\n",
    "\n",
    "        if lat_long not in location_dict:\n",
    "            location_dict[lat_long] = len(location_dict) + 1\n",
    "        \n",
    "        location_ids.append(location_dict[lat_long])\n",
    "\n",
    "    data['location_id'] = location_ids\n",
    "\n",
    "    grouped_data = data.groupby('location_id').mean().reset_index()\n",
    "\n",
    "    grouped_data['year'] = year\n",
    "\n",
    "    print(f\"Year = {year}. Number of distinct locations = {len(location_dict)}\", end=\" || \")\n",
    "\n",
    "    return grouped_data, location_dict"
   ]
  },
  {
   "cell_type": "markdown",
   "metadata": {},
   "source": [
    "Note that the temperatures of a given year are averaged out, which let us not worry about seasonal temperature effects."
   ]
  },
  {
   "cell_type": "code",
   "execution_count": 5,
   "metadata": {},
   "outputs": [
    {
     "name": "stderr",
     "output_type": "stream",
     "text": [
      "  0%|          | 0/24 [00:00<?, ?it/s]"
     ]
    },
    {
     "name": "stdout",
     "output_type": "stream",
     "text": [
      "Year = 1998. Number of distinct locations = 2479034 || "
     ]
    },
    {
     "name": "stderr",
     "output_type": "stream",
     "text": [
      "  4%|▍         | 1/24 [01:43<39:42, 103.58s/it]"
     ]
    },
    {
     "name": "stdout",
     "output_type": "stream",
     "text": [
      "Year = 1999. Number of distinct locations = 4045199 || "
     ]
    },
    {
     "name": "stderr",
     "output_type": "stream",
     "text": [
      "  8%|▊         | 2/24 [04:00<45:05, 122.99s/it]"
     ]
    },
    {
     "name": "stdout",
     "output_type": "stream",
     "text": [
      "Year = 2000. Number of distinct locations = 5515972 || "
     ]
    },
    {
     "name": "stderr",
     "output_type": "stream",
     "text": [
      " 12%|█▎        | 3/24 [06:22<46:05, 131.69s/it]"
     ]
    },
    {
     "name": "stdout",
     "output_type": "stream",
     "text": [
      "Year = 2001. Number of distinct locations = 6834430 || "
     ]
    },
    {
     "name": "stderr",
     "output_type": "stream",
     "text": [
      " 17%|█▋        | 4/24 [08:55<46:43, 140.15s/it]"
     ]
    },
    {
     "name": "stdout",
     "output_type": "stream",
     "text": [
      "Year = 2002. Number of distinct locations = 7775428 || "
     ]
    },
    {
     "name": "stderr",
     "output_type": "stream",
     "text": [
      " 21%|██        | 5/24 [11:28<45:53, 144.92s/it]"
     ]
    },
    {
     "name": "stdout",
     "output_type": "stream",
     "text": [
      "Year = 2003. Number of distinct locations = 8406239 || "
     ]
    },
    {
     "name": "stderr",
     "output_type": "stream",
     "text": [
      " 25%|██▌       | 6/24 [13:58<44:00, 146.68s/it]"
     ]
    },
    {
     "name": "stdout",
     "output_type": "stream",
     "text": [
      "Year = 2004. Number of distinct locations = 9013873 || "
     ]
    },
    {
     "name": "stderr",
     "output_type": "stream",
     "text": [
      " 29%|██▉       | 7/24 [16:24<41:30, 146.49s/it]"
     ]
    },
    {
     "name": "stdout",
     "output_type": "stream",
     "text": [
      "Year = 2005. Number of distinct locations = 9565091 || "
     ]
    },
    {
     "name": "stderr",
     "output_type": "stream",
     "text": [
      " 33%|███▎      | 8/24 [19:33<42:36, 159.76s/it]"
     ]
    },
    {
     "name": "stdout",
     "output_type": "stream",
     "text": [
      "Year = 2006. Number of distinct locations = 9937853 || "
     ]
    },
    {
     "name": "stderr",
     "output_type": "stream",
     "text": [
      " 38%|███▊      | 9/24 [21:48<38:04, 152.30s/it]"
     ]
    },
    {
     "name": "stdout",
     "output_type": "stream",
     "text": [
      "Year = 2007. Number of distinct locations = 10249118 || "
     ]
    },
    {
     "name": "stderr",
     "output_type": "stream",
     "text": [
      " 42%|████▏     | 10/24 [22:55<29:23, 125.97s/it]"
     ]
    },
    {
     "name": "stdout",
     "output_type": "stream",
     "text": [
      "Year = 2008. Number of distinct locations = 10520302 || "
     ]
    },
    {
     "name": "stderr",
     "output_type": "stream",
     "text": [
      " 46%|████▌     | 11/24 [24:08<23:46, 109.73s/it]"
     ]
    },
    {
     "name": "stdout",
     "output_type": "stream",
     "text": [
      "Year = 2009. Number of distinct locations = 10765973 || "
     ]
    },
    {
     "name": "stderr",
     "output_type": "stream",
     "text": [
      " 50%|█████     | 12/24 [25:27<20:03, 100.32s/it]"
     ]
    },
    {
     "name": "stdout",
     "output_type": "stream",
     "text": [
      "Year = 2010. Number of distinct locations = 11099553 || "
     ]
    },
    {
     "name": "stderr",
     "output_type": "stream",
     "text": [
      " 54%|█████▍    | 13/24 [26:55<17:40, 96.38s/it] "
     ]
    },
    {
     "name": "stdout",
     "output_type": "stream",
     "text": [
      "Year = 2011. Number of distinct locations = 11297422 || "
     ]
    },
    {
     "name": "stderr",
     "output_type": "stream",
     "text": [
      " 58%|█████▊    | 14/24 [28:23<15:39, 93.98s/it]"
     ]
    },
    {
     "name": "stdout",
     "output_type": "stream",
     "text": [
      "Year = 2012. Number of distinct locations = 11516896 || "
     ]
    },
    {
     "name": "stderr",
     "output_type": "stream",
     "text": [
      " 62%|██████▎   | 15/24 [30:01<14:17, 95.32s/it]"
     ]
    },
    {
     "name": "stdout",
     "output_type": "stream",
     "text": [
      "Year = 2013. Number of distinct locations = 11660575 || "
     ]
    },
    {
     "name": "stderr",
     "output_type": "stream",
     "text": [
      " 67%|██████▋   | 16/24 [31:42<12:54, 96.81s/it]"
     ]
    },
    {
     "name": "stdout",
     "output_type": "stream",
     "text": [
      "Year = 2014. Number of distinct locations = 11848383 || "
     ]
    },
    {
     "name": "stderr",
     "output_type": "stream",
     "text": [
      " 71%|███████   | 17/24 [33:37<11:57, 102.54s/it]"
     ]
    },
    {
     "name": "stdout",
     "output_type": "stream",
     "text": [
      "Year = 2015. Number of distinct locations = 12027248 || "
     ]
    },
    {
     "name": "stderr",
     "output_type": "stream",
     "text": [
      " 75%|███████▌  | 18/24 [35:35<10:42, 107.07s/it]"
     ]
    },
    {
     "name": "stdout",
     "output_type": "stream",
     "text": [
      "Year = 2016. Number of distinct locations = 12187197 || "
     ]
    },
    {
     "name": "stderr",
     "output_type": "stream",
     "text": [
      " 79%|███████▉  | 19/24 [37:39<09:20, 112.01s/it]"
     ]
    },
    {
     "name": "stdout",
     "output_type": "stream",
     "text": [
      "Year = 2017. Number of distinct locations = 12321953 || "
     ]
    },
    {
     "name": "stderr",
     "output_type": "stream",
     "text": [
      " 83%|████████▎ | 20/24 [39:42<07:41, 115.33s/it]"
     ]
    },
    {
     "name": "stdout",
     "output_type": "stream",
     "text": [
      "Year = 2018. Number of distinct locations = 12416371 || "
     ]
    },
    {
     "name": "stderr",
     "output_type": "stream",
     "text": [
      " 88%|████████▊ | 21/24 [41:45<05:53, 117.82s/it]"
     ]
    },
    {
     "name": "stdout",
     "output_type": "stream",
     "text": [
      "Year = 2019. Number of distinct locations = 12754702 || "
     ]
    },
    {
     "name": "stderr",
     "output_type": "stream",
     "text": [
      " 92%|█████████▏| 22/24 [44:40<04:30, 135.03s/it]"
     ]
    },
    {
     "name": "stdout",
     "output_type": "stream",
     "text": [
      "Year = 2020. Number of distinct locations = 13013158 || "
     ]
    },
    {
     "name": "stderr",
     "output_type": "stream",
     "text": [
      " 96%|█████████▌| 23/24 [47:42<02:28, 148.87s/it]"
     ]
    },
    {
     "name": "stdout",
     "output_type": "stream",
     "text": [
      "Year = 2021. Number of distinct locations = 13194869 || "
     ]
    },
    {
     "name": "stderr",
     "output_type": "stream",
     "text": [
      "100%|██████████| 24/24 [51:03<00:00, 127.63s/it]\n"
     ]
    },
    {
     "data": {
      "text/plain": [
       "True"
      ]
     },
     "execution_count": 5,
     "metadata": {},
     "output_type": "execute_result"
    }
   ],
   "source": [
    "concatenate_filter_treat_data()"
   ]
  },
  {
   "cell_type": "markdown",
   "metadata": {},
   "source": [
    "### Reading and Exploring Aggregate Data"
   ]
  },
  {
   "cell_type": "code",
   "execution_count": 7,
   "metadata": {},
   "outputs": [],
   "source": [
    "df = pd.read_csv(os.path.join(os.getcwd(), 'data', 'merged_data.csv'))"
   ]
  },
  {
   "cell_type": "code",
   "execution_count": 10,
   "metadata": {},
   "outputs": [
    {
     "name": "stdout",
     "output_type": "stream",
     "text": [
      "Shape of the dataframe: (64906625, 5)\n",
      "\n",
      "   location_id  Latitude  Longitude  Sea_Surface_Temperature  year\n",
      "0            1   -66.225    -92.875                   271.29  1998\n",
      "1            2   -66.175    -94.575                   271.28  1998\n",
      "2            3   -66.175    -92.825                   271.38  1998\n",
      "3            4   -66.175    -92.725                   271.47  1998\n",
      "4            5   -66.125    -94.475                   271.34  1998\n"
     ]
    }
   ],
   "source": [
    "print(f\"Shape of the dataframe: {df.shape}\\n\")\n",
    "print(df.head())"
   ]
  },
  {
   "cell_type": "code",
   "execution_count": 22,
   "metadata": {},
   "outputs": [
    {
     "name": "stdout",
     "output_type": "stream",
     "text": [
      "Total distinct number of locations: 13194869\n",
      "Total number of possible locations: 25920000\n",
      "Ratio of possible locations with data associated: 50.9%\n"
     ]
    }
   ],
   "source": [
    "unique_locations = len(list(df['location_id'].unique()))\n",
    "possible_locations = 3600*7200\n",
    "\n",
    "print(f\"Total distinct number of locations: {unique_locations}\")\n",
    "print(f\"Total number of possible locations: {possible_locations}\")\n",
    "print(f\"Ratio of possible locations with data associated: {unique_locations/possible_locations:.1%}\")"
   ]
  },
  {
   "cell_type": "markdown",
   "metadata": {},
   "source": [
    "Approximately half of the locations have sea surface temperature data associated with it."
   ]
  },
  {
   "cell_type": "markdown",
   "metadata": {},
   "source": [
    "Let's check the number of months associated with each location. We will get the count of locations according to the number of months associated with it."
   ]
  },
  {
   "cell_type": "code",
   "execution_count": 24,
   "metadata": {},
   "outputs": [
    {
     "data": {
      "text/html": [
       "<div>\n",
       "<style scoped>\n",
       "    .dataframe tbody tr th:only-of-type {\n",
       "        vertical-align: middle;\n",
       "    }\n",
       "\n",
       "    .dataframe tbody tr th {\n",
       "        vertical-align: top;\n",
       "    }\n",
       "\n",
       "    .dataframe thead th {\n",
       "        text-align: right;\n",
       "    }\n",
       "</style>\n",
       "<table border=\"1\" class=\"dataframe\">\n",
       "  <thead>\n",
       "    <tr style=\"text-align: right;\">\n",
       "      <th></th>\n",
       "      <th>rows_per_location_id</th>\n",
       "      <th>unique_location_ids</th>\n",
       "    </tr>\n",
       "  </thead>\n",
       "  <tbody>\n",
       "    <tr>\n",
       "      <th>0</th>\n",
       "      <td>1</td>\n",
       "      <td>1864917</td>\n",
       "    </tr>\n",
       "    <tr>\n",
       "      <th>1</th>\n",
       "      <td>2</td>\n",
       "      <td>1858760</td>\n",
       "    </tr>\n",
       "    <tr>\n",
       "      <th>2</th>\n",
       "      <td>3</td>\n",
       "      <td>1734245</td>\n",
       "    </tr>\n",
       "    <tr>\n",
       "      <th>3</th>\n",
       "      <td>4</td>\n",
       "      <td>1507524</td>\n",
       "    </tr>\n",
       "    <tr>\n",
       "      <th>4</th>\n",
       "      <td>5</td>\n",
       "      <td>1285328</td>\n",
       "    </tr>\n",
       "    <tr>\n",
       "      <th>5</th>\n",
       "      <td>6</td>\n",
       "      <td>1106339</td>\n",
       "    </tr>\n",
       "    <tr>\n",
       "      <th>6</th>\n",
       "      <td>7</td>\n",
       "      <td>964285</td>\n",
       "    </tr>\n",
       "    <tr>\n",
       "      <th>7</th>\n",
       "      <td>8</td>\n",
       "      <td>825949</td>\n",
       "    </tr>\n",
       "    <tr>\n",
       "      <th>8</th>\n",
       "      <td>9</td>\n",
       "      <td>672657</td>\n",
       "    </tr>\n",
       "    <tr>\n",
       "      <th>9</th>\n",
       "      <td>10</td>\n",
       "      <td>511982</td>\n",
       "    </tr>\n",
       "    <tr>\n",
       "      <th>10</th>\n",
       "      <td>11</td>\n",
       "      <td>359634</td>\n",
       "    </tr>\n",
       "    <tr>\n",
       "      <th>11</th>\n",
       "      <td>12</td>\n",
       "      <td>231307</td>\n",
       "    </tr>\n",
       "    <tr>\n",
       "      <th>12</th>\n",
       "      <td>13</td>\n",
       "      <td>137763</td>\n",
       "    </tr>\n",
       "    <tr>\n",
       "      <th>13</th>\n",
       "      <td>14</td>\n",
       "      <td>74257</td>\n",
       "    </tr>\n",
       "    <tr>\n",
       "      <th>14</th>\n",
       "      <td>15</td>\n",
       "      <td>36309</td>\n",
       "    </tr>\n",
       "    <tr>\n",
       "      <th>15</th>\n",
       "      <td>16</td>\n",
       "      <td>15685</td>\n",
       "    </tr>\n",
       "    <tr>\n",
       "      <th>16</th>\n",
       "      <td>17</td>\n",
       "      <td>5650</td>\n",
       "    </tr>\n",
       "    <tr>\n",
       "      <th>17</th>\n",
       "      <td>18</td>\n",
       "      <td>1809</td>\n",
       "    </tr>\n",
       "    <tr>\n",
       "      <th>18</th>\n",
       "      <td>19</td>\n",
       "      <td>406</td>\n",
       "    </tr>\n",
       "    <tr>\n",
       "      <th>19</th>\n",
       "      <td>20</td>\n",
       "      <td>56</td>\n",
       "    </tr>\n",
       "    <tr>\n",
       "      <th>20</th>\n",
       "      <td>21</td>\n",
       "      <td>7</td>\n",
       "    </tr>\n",
       "  </tbody>\n",
       "</table>\n",
       "</div>"
      ],
      "text/plain": [
       "    rows_per_location_id  unique_location_ids\n",
       "0                      1              1864917\n",
       "1                      2              1858760\n",
       "2                      3              1734245\n",
       "3                      4              1507524\n",
       "4                      5              1285328\n",
       "5                      6              1106339\n",
       "6                      7               964285\n",
       "7                      8               825949\n",
       "8                      9               672657\n",
       "9                     10               511982\n",
       "10                    11               359634\n",
       "11                    12               231307\n",
       "12                    13               137763\n",
       "13                    14                74257\n",
       "14                    15                36309\n",
       "15                    16                15685\n",
       "16                    17                 5650\n",
       "17                    18                 1809\n",
       "18                    19                  406\n",
       "19                    20                   56\n",
       "20                    21                    7"
      ]
     },
     "execution_count": 24,
     "metadata": {},
     "output_type": "execute_result"
    }
   ],
   "source": [
    "grouped = df.groupby('location_id').size()\n",
    "result = grouped.value_counts().reset_index()\n",
    "result.columns = ['rows_per_location_id', 'unique_location_ids']\n",
    "result = result.sort_values(by='rows_per_location_id')\n",
    "result\n"
   ]
  },
  {
   "cell_type": "markdown",
   "metadata": {},
   "source": [
    "# Network analysis reveals strongly localized impacts of El Niño"
   ]
  },
  {
   "cell_type": "markdown",
   "metadata": {},
   "source": [
    "https://www.pnas.org/doi/abs/10.1073/pnas.1701214114\n",
    "\n",
    "01/23/2017"
   ]
  },
  {
   "cell_type": "markdown",
   "metadata": {},
   "source": [
    "### Abstract"
   ]
  },
  {
   "cell_type": "markdown",
   "metadata": {},
   "source": [
    "Using network theory, we construct directed and weighted climate networks based on **near-surface air temperature** to study the global impacts of El Niño and La Niña. \n",
    "\n",
    "The constructed climate network enables the identification of the regions that are most drastically affected by specific El Niño/La Niña events. Our analysis indicates that the effect of the El Niño basin on worldwide regions is more localized and stronger during El Niño events compared with normal times.\n",
    "\n",
    "Regions that are characterized by <span style=\"color:yellow\">higher positive</span>/negative <span style=\"color:yellow\">network in-weighted links are exhibiting stronger correlations with the El Niño basin and are warmer</span>/cooler <span style=\"color:yellow\">during El Niño</span>/La Niña <span style=\"color:yellow\">periods</span>. In contrast to non-El Niño periods, <span style=\"color:yellow\">these stronger in-weighted activities are found to be concentrated in very localized areas</span>, whereas a large fraction of the globe is not influenced by the events. The regions of localized activity vary from one El Niño (La Niña) event to another; still, some El Niño (La Niña) events are more similar to each other. We quantify this similarity using network community structure. \n",
    "\n",
    "The results and methodology reported here may be used to improve the understanding and prediction of El Niño/La Niña events and also may be applied in the investigation of other climate variables.\n",
    "\n"
   ]
  },
  {
   "cell_type": "markdown",
   "metadata": {},
   "source": [
    "### Introduction"
   ]
  },
  {
   "cell_type": "markdown",
   "metadata": {},
   "source": [
    "#### Climate Networks"
   ]
  },
  {
   "cell_type": "markdown",
   "metadata": {},
   "source": [
    "In recent years, network theory has been implemented in climate sciences to construct climate networks. These networks have been used successfully to analyze, model, understand, and even predict climate phenomena.\n",
    "\n",
    "A network is composed of nodes and links; in a climate network, <span style=\"color:yellow\">the nodes are the geographical locations, and the links are the correlations between them</span>. The strength of the links is quantified according to the strength of the correlations between the different nodes."
   ]
  },
  {
   "cell_type": "markdown",
   "metadata": {},
   "source": [
    "#### El Niño"
   ]
  },
  {
   "cell_type": "markdown",
   "metadata": {},
   "source": [
    "El Niño refers to the warming of the central and eastern equatorial Pacific Ocean by several degrees. La Niña is the cooling of sea surface temperatures (SSTs) in the eastern tropical Pacific Ocean. La Niña usually follows an El Niño event, but not always; the overall phenomenon is referred to as El Niño-Southern Oscillation (ENSO). This cycle occurs every 3–5 years with different magnitudes. \n",
    "\n",
    "There are several indices that quantify the El Niño activity, including the Niño 3.4 Index, the Southern Oscillation Index (SOI), and the Oceanic Niño Index (ONI), which is the National Oceanic and Atmospheric Administration’s (NOAA) primary indicator for monitoring El Niño and La Niña. ONI is the running 3-month mean SST anomaly for the Niño 3.4 region:\n",
    "- Northern boundary: 5°N\n",
    "- Southern boundary: 5°S\n",
    "- Western boundary: 170°W\n",
    "- Eastern boundary: 120°W\n",
    "\n",
    "We refer to this region as the El Niño Basin (ENB)."
   ]
  },
  {
   "cell_type": "code",
   "execution_count": 8,
   "metadata": {},
   "outputs": [
    {
     "data": {
      "image/png": "[encoded data removed]",
      "text/plain": [
       "<Figure size 1000x500 with 1 Axes>"
      ]
     },
     "metadata": {},
     "output_type": "display_data"
    }
   ],
   "source": [
    "import matplotlib.pyplot as plt\n",
    "import geopandas as gpd\n",
    "from shapely.geometry import Polygon\n",
    "import warnings\n",
    "warnings.simplefilter(action='ignore', category=FutureWarning)\n",
    "\n",
    "polygon_coords = [\n",
    "    (-120, 5),\n",
    "    (-170, 5),\n",
    "    (-170, -5),\n",
    "    (-120, -5),\n",
    "    (-120, 5)\n",
    "]\n",
    "\n",
    "polygon = Polygon(polygon_coords)\n",
    "\n",
    "gdf = gpd.GeoDataFrame(index=[0], crs=\"EPSG:4326\", geometry=[polygon])\n",
    "\n",
    "fig, ax = plt.subplots(figsize=(10, 5))\n",
    "gdf.boundary.plot(ax=ax, color='blue', linewidth=2)\n",
    "\n",
    "world = gpd.read_file(gpd.datasets.get_path('naturalearth_lowres'))\n",
    "world.plot(ax=ax, color='lightgrey')\n",
    "\n",
    "ax.set_title('El Niño Basin (ENB)')\n",
    "ax.set_xlabel('Longitude')\n",
    "ax.set_ylabel('Latitude')\n",
    "\n",
    "plt.show()\n"
   ]
  },
  {
   "cell_type": "markdown",
   "metadata": {},
   "source": [
    "When $\\textcolor{yellow}{\\text{ONI} > 0.5^\\circ\\text{C}}$ for at least five consecutive months, the corresponding year is considered to be an <span style=\"color:yellow;\">El Niño</span> year. The higher the ONI is, the stronger the El Niño.\n",
    "\n",
    "Similarly, La Niña is determined to occur when $\\text{ONI} > -0.5^\\circ\\text{C}$ for at least five consecutive months. \n",
    "\n",
    "The El Niño phenomenon strongly affects human life. It can lead to warming, enhanced rain in some regions and droughts in other regions, decline in fishery, famine, plagues, and economic changes through globally networked system."
   ]
  },
  {
   "cell_type": "markdown",
   "metadata": {},
   "source": [
    "#### Findings\n",
    "\n",
    "We construct the climate network by using only directed <span style=\"color:green;\">links from the ENB to regions outside the ENB</span> (which we call here <span style=\"color:green;\">in-links</span>). The constructed in-weighted climate network enables us not only to obtain a map of the global impacts of a given El Niño event, but also to study the impacts of El Niño in specific regions.\n",
    "\n",
    "We identify warming and cooling regions that are influenced by the ENB by measuring each node’s strength according to the weights of its links coming from the ENB."
   ]
  },
  {
   "cell_type": "code",
   "execution_count": 22,
   "metadata": {},
   "outputs": [
    {
     "data": {
      "image/png": "[encoded data removed]",
      "text/plain": [
       "<Figure size 1000x500 with 1 Axes>"
      ]
     },
     "metadata": {},
     "output_type": "display_data"
    }
   ],
   "source": [
    "fig, ax = plt.subplots(figsize=(10, 5))\n",
    "world.plot(ax=ax, color='lightgrey')\n",
    "gdf.boundary.plot(ax=ax, color='blue', linewidth=2)\n",
    "ax.set_xlim(-180, -100)\n",
    "ax.set_ylim(-10, 10)\n",
    "ax.set_title('in-links', color='orange')\n",
    "ax.set_xlabel('Longitude')\n",
    "ax.set_ylabel('Latitude')\n",
    "\n",
    "arrowprops = dict(facecolor='orange', edgecolor='orange', arrowstyle=\"->\")\n",
    "\n",
    "arrows = [\n",
    "    {'start': (-135, 2), 'end': (-110, 5)},\n",
    "    {'start': (-145, 4), 'end': (-160, 8)},\n",
    "    {'start': (-130, -2), 'end': (-110, -5)},\n",
    "    {'start': (-160, 0), 'end': (-175, 0)},\n",
    "    {'start': (-145, -3), 'end': (-160, -8)},\n",
    "    {'start': (-142, 0), 'end': (-138, 7)},\n",
    "    {'start': (-138, 0), 'end': (-142, -7)}\n",
    "]\n",
    "\n",
    "\n",
    "for arrow in arrows:\n",
    "    ax.annotate('', xy=arrow['end'], xytext=arrow['start'], arrowprops=arrowprops)\n",
    "\n",
    "plt.show()\n"
   ]
  },
  {
   "cell_type": "markdown",
   "metadata": {},
   "source": [
    "During El Niño/La Niña, a large fraction of the globe is not influenced by the events, but the regions that are influenced are significantly more affected by the ENB than in normal years. The climate structure becomes well-confined in certain localized regions during a fully developed El Niño event. This phenomenon is evident by inspecting the emergent teleconnections between the ENB and localized regions. Such a large-scale cooperative mode helps us to forecast El Niño events.\n",
    "\n",
    "The El Niño/La Niña events influence different regions with different magnitudes during different events; still, <span style=\"color:yellow;\">by determining the network community structure</span>, our results suggest that similarities exist among some of the El Niño (La Niña) events.\n",
    "\n",
    "The impact of El Niño is very variable and that it is localized and strong during El Niño events; we quantify this variability and the intensity effect and found, using a directed and weighted network, that it is strongly related to El Niño."
   ]
  },
  {
   "cell_type": "markdown",
   "metadata": {},
   "source": [
    "### Methodology"
   ]
  },
  {
   "cell_type": "markdown",
   "metadata": {},
   "source": [
    "Our evolving climate network is constructed from the global daily near-surface (1000 hPa) air temperature fields of the National Center for Environmental Prediction/National Center for Atmospheric Research (NCEP/NCAR). \n",
    "\n",
    "The spatial (zonal and meridional) resolution of the data are $2.5^\\circ \\times 2.5^\\circ$, resulting in $144 \\times 73 = 10512$ grid points. \n",
    "\n",
    "The dataset spans the time period between January 1948 and April 2016. Because for each window $365 + 200$ days’ daily data are used, and the newest data we can obtain is until May 6, 2016, so $\\Phi^y$ is terminated at the 11th window of 2014. \n",
    "\n",
    "To avoid the strong effect of seasonality, we subtract the mean seasonal cycle and divide by the seasonal SD for each grid point time series. \n",
    "\n",
    "The overall analysis is based on a sequence of networks, each constructed from time series that span 1 year.\n"
   ]
  },
  {
   "cell_type": "markdown",
   "metadata": {},
   "source": [
    "The nodes (grid points) are divided into <span style=\"color:yellow;\">two subsets</span>. One subset includes the <span style=\"color:yellow;\">nodes within the ENB</span> ($57$ nodes) and the other the <span style=\"color:yellow;\">nodes outside the ENB</span> ($10455$ nodes). For each pair of nodes, $\\textcolor{yellow}{i}$ and $\\textcolor{yellow}{j}$, each from a different subset, respectively, the cross-correlation between the two time series of 365 days is calculated,\n",
    "\n",
    "$$\n",
    "C_{i,j}^{y}(\\tau) = \\frac{\\langle T_i(d) T_j(d - \\tau) \\rangle - \\langle T_i(d) \\rangle \\langle T_j(d - \\tau) \\rangle}{\\sigma_{T_i(d)} \\sigma_{T_j(d - \\tau)}}\n",
    "$$\n",
    "\n"
   ]
  },
  {
   "cell_type": "markdown",
   "metadata": {},
   "source": [
    "- $C_{i,j}^y$: cross-correlation between the time series of 365 days associated with $i$ and with $j$.\n",
    "- $\\sigma_{T_i(d)}$ is the standard deviation (SD) of $T_i(d)$.\n",
    "- $\\tau \\in [0, \\tau_{\\text{max}}]$ is the time lag, with $\\tau_{\\text{max}} = 200$ days.\n",
    "- $y$ indicates the starting date of the time series with 0 time shift.\n",
    "- $T$: temperature ???\n",
    "- $d$: day\n",
    "\n",
    "$C_{i,j}^{y}(-\\tau) \\equiv C_{j,i}^{y}(\\tau)$.\n",
    "\n",
    "We then identify the value of the highest peak of the absolute value of the cross-correlation function and denote the corresponding time lag of this peak as $\\theta_{i,j}^{y}$. \n",
    "\n",
    "- $\\theta_{i,j}^{y}$: time lag of the peak.\n",
    "\n",
    "The sign of $\\theta_{i,j}^{y}$ indicates the direction of each link:\n",
    "  - $\\theta_{i,j}^{y} > 0 \\implies$ the direction of the link is from $i$ to $j$.\n",
    "  - $\\theta_{i,j}^{y} < 0 \\implies$ the direction of the link is from $j$ to $i$.\n"
   ]
  },
  {
   "cell_type": "markdown",
   "metadata": {},
   "source": [
    " Below, we focus on the overall effect of the ENB on grid points outside this region and thus refer to the links directed from the ENB to a grid point $j$ as in-links to grid point $j$.\n",
    "\n",
    " We only consider in-links with time lag shorter than 5 months: \n",
    " \n",
    " $\\left| \\theta_{i,j}^{y} \\right| \\leq 150 \\, \\text{d}$\n",
    "\n",
    "as we focus on the influence of El Niño on the rest of the world on seasonal time scales."
   ]
  },
  {
   "cell_type": "markdown",
   "metadata": {},
   "source": [
    "The figure below shows examples of in-links over different regions.\n",
    "\n",
    "<img src=\"figs/fig1.jpeg\" alt=\"Network Analysis Diagram\"/>"
   ]
  },
  {
   "cell_type": "markdown",
   "metadata": {},
   "source": [
    "The link weights are determined by using $C_{i,j}^{y}(\\theta)$, and we define the strength of the link as\n",
    "\n",
    "$$\n",
    "W_{i,j}^{y} = \\frac{C_{i,j}^{y}(\\theta) - \\text{mean}(C_{i,j}^{y}(\\tau))}{\\text{std}(C_{i,j}^{y}(\\tau))},\n",
    "$$\n",
    "\n",
    "- $W_{i,j}$: strength of the $i$-$j$ link.\n"
   ]
  },
  {
   "cell_type": "markdown",
   "metadata": {},
   "source": [
    "We construct networks based on both $C_{i,j}(\\theta)$ and $W_{i,j}$, and these are consistent with each other.\n",
    "\n",
    "The adjacency matrix of a climate network is defined as\n",
    "\n",
    "$$A_{i,j}^{y} = (1 - \\delta_{i,j})H(\\theta_{i,j}^{y})$$\n",
    "\n",
    "- Heaviside step function \n",
    "$\n",
    "H(x) :=\n",
    "\\begin{cases} \n",
    "1, & \\text{if } x \\geq 0 \\\\\n",
    "0, & \\text{if } x < 0 \n",
    "\\end{cases}\n",
    "$\n",
    "\n",
    "- $I_{i}^{y}$: in-degree of the node $i$ (number of links into the node).\n",
    "$$I_{i}^{y} = \\sum_{j}A_{j,i}^y$$\n",
    "- $O_{i}^{y}$: out-degree of node $i$ (number of links out from the node).\n",
    "$$O_{i}^{y} = \\sum_{j}A_{i,j}^y$$\n",
    "\n",
    "We define the total in-weights of each node outside the ENB as the sum of the weights of its in-links, using $C_{j,i}^{y}$ and $W_{j,i}^{y}$:\n",
    "\n",
    "$$\\text{IN}(C_{i}^{y}) = \\sum_{j \\in \\text{ENB}}A_{j,i}^{y}C_{j,i}^{y}(\\theta),$$\n",
    "\n",
    "$$\\text{IN}(W_{i}^{y}) = \\sum_{j \\in \\text{ENB}}A_{j,i}^{y}W_{j,i}^{y}$$\n"
   ]
  },
  {
   "cell_type": "markdown",
   "metadata": {},
   "source": [
    "Larger positive values of $\\text{IN}(C_{i}^{y})$ and $\\text{IN}(W_{i}^{y})$ reflect stronger warming due to the impact of the ENB.\n",
    "\n",
    "Smaller negative values of $\\text{IN}(C_{i}^{y})$ and $\\text{IN}(W_{i}^{y})$ reflect weaker cooling due to the impact of the ENB.\n",
    "\n",
    "If there are no in-links for a node, both the in-degree and in-weights are zero, indicating no impact of the ENB."
   ]
  },
  {
   "cell_type": "markdown",
   "metadata": {},
   "source": [
    "Based on the ONI, we divide the 68 record years into El Niño, La Niña, and normal years. For simplicity, we only consider moderate and strong El Niño/La Niña events with $\\text{ONI} > -1^\\circ\\text{C}$. For each event, we consider the time series from July 1 preceding the event to June 30 of the next year, to cover the whole range of one El Niño/La Niña period. The year is centered on the Northern Hemisphere winter, such that, for example, the year labeled 1980 runs from July 1, 1980 to June 30, 1981.\n",
    "\n",
    "Based on this definition, we consider 11 El Niño and 9 La Niña events between the years of 1948 and 2015. \n",
    "\n",
    "We calculate the in-weighted degree fields for El Niño and La Niña by taking the average of the same type of events using\n",
    "\n",
    "$$\\text{IN}(C_i) = \\sum_{y \\in EY (LY)} \\frac{\\text{IN}(C_i^y)}{S}$$\n",
    "\n",
    "$$\\text{IN}(W_i) = \\sum_{y \\in EY (LY)} \\frac{\\text{IN}(W_i^y)}{S},$$\n",
    "\n",
    "where \n",
    "\n",
    "$$S = \\sum_{y \\in EY (LY)} I_i^y,$$\n",
    "\n",
    "$EY$: years in which the El Niño occurs.\n",
    "\n",
    "$LY$: years in which the La Niña occurs.\n"
   ]
  },
  {
   "cell_type": "markdown",
   "metadata": {},
   "source": [
    "Regions affected by El Niño/La Niña, either by warming or cooling, are charcterized by relatively <span style=\"color:yellow;\">high in-weights</span> and by temperature anomalies.\n",
    "\n",
    "<img src=\"figs/fig1.jpeg\" alt=\"Network Analysis Diagram\" style=\"width:50%;\"/>\n",
    "\n",
    "The maps of temperature anomalies are obtained by first calculating a 3-mo (December–February) mean temperature anomaly for each year, and then taking an average of the mean value over all El Niño/La Niña years. The El Niño/La Niña-related in-weighted extent fields are hemispherically symmetric, to some degree."
   ]
  },
  {
   "cell_type": "markdown",
   "metadata": {},
   "source": [
    "### Results"
   ]
  },
  {
   "cell_type": "markdown",
   "metadata": {},
   "source": [
    "In the table below, we compare the in-weighted degree maps of El Niño/La Niña events with the corresponding temperature anomaly maps by evaluating the cross-correlation between each pair of maps shown in the figure above. \n",
    "\n",
    "| R                                 | El Niño | La Niña |\n",
    "|-----------------------------------|---------|---------|\n",
    "| $R_{\\text{IN}(C), T}$             | 0.59    | -0.55   |\n",
    "| $R_{\\text{IN}(W), T}$             | 0.54    | -0.51   |\n",
    "| $R_{\\text{IN}(W), \\text{IN}(C)}$  | 0.92    | 0.95    |\n",
    "\n",
    "$$\n",
    "R = \\frac{\n",
    "\\sum_{i=1}^{N} (C_i - \\langle C \\rangle)(T_i - \\langle T \\rangle) \\cos(\\lambda_i)\n",
    "}{\n",
    "\\sqrt{\\sum_{i=1}^{N} (C_i - \\langle C \\rangle)^2 \\cos(\\lambda_i)} \\sqrt{\\sum_{i=1}^{N} (T_i - \\langle T \\rangle)^2 \\cos(\\lambda_i)}\n",
    "}\n",
    "$$\n",
    "\n",
    "\n",
    "$$\n",
    "\\langle C \\rangle = \\frac{\\sum_{i=1}^{N} C_i \\cos(\\lambda_i)}{\\sum_{i=1}^{N} \\cos(\\lambda_i)}\n",
    "$$\n",
    "$$\n",
    "\\langle T \\rangle = \\frac{\\sum_{i=1}^{N} T_i \\cos(\\lambda_i)}{\\sum_{i=1}^{N} \\cos(\\lambda_i)}\n",
    "$$\n",
    "\n",
    "- $i$: Labels of the nodes taken into consideration.\n",
    "- $\\langle \\cdot \\rangle$: Indicates the average over all the nodes.\n",
    "- $C_i$: \"In\"-weights of node $i$.\n",
    "- $T_i$: Temperature anomaly of node $i$.\n",
    "- $\\lambda_i$: Latitude of node $i$.\n"
   ]
  },
  {
   "cell_type": "markdown",
   "metadata": {},
   "source": [
    "During El Niño/La Niña events, the overall global area that is influenced by the ENB becomes smaller, whereas the impacts in these more limited areas become stronger. This enhanced impact in localized regions is demonstrated in the figure below, which compares the global distributions of the\n",
    "- in-degrees $\\text{IN}(N)$\n",
    "- in-weights $\\text{IN}(W)$\n",
    "- $\\text{IN}(C)$\n",
    "\n",
    "of typical El Niño and normal years.\n",
    "\n",
    "<img src=\"figs/fig2.jpeg\">\n",
    "<span style=\"color:gray;\">The in-degree fields (N, W, and C) in a typical El Niño event, 1972 (A, C, and E), and a normal year, 1959 (B, D, and F).</span>"
   ]
  },
  {
   "cell_type": "markdown",
   "metadata": {},
   "source": [
    "A quantitative analysis of the area (number of nodes) that is affected/unaffected during El Niño and La Niña years is shown in the figure below where El Niño and La Niña years are, respectively, emphasized by the red and blue shading. \n",
    "\n",
    "<img src=\"figs/fig3.jpeg\">\n",
    "\n",
    "The 3-months running average of $N^y$ and $C^y$. (A) The ONI as a function of time. (B) The evolution of the number of nodes that have in-links with time (number of nodes with zero in-degree $N^y$ as a function of time). (C) The evolution of the average in-weights per node with time.\n",
    "\n",
    "The temporal evolution of the climate network is studied by constructing a sequence of networks based on successive windows of lengths of $365 + 200d$, with a beginning date that is shifted by 1 month each time.\n",
    "\n",
    "We focus on El Niño (La Niña) events with ONIs that are larger (smaller) than $1^\\circ\\text{C} (-1^\\circ\\text{C})$.\n",
    "\n",
    "The average in-weights per node (fig C), are given by dividing the sum of the absolute weights of all in-links of each node outside the ENB by $N^y$:\n",
    "\n",
    "$$C^y = \\sum_{i \\notin \\text{ENB}} \\sum_{j \\in \\text{ENB}} \\frac{A_{j,i}^y |C_{j,i}^y(\\theta)|}{N^y}$$\n"
   ]
  },
  {
   "cell_type": "markdown",
   "metadata": {},
   "source": [
    "During El Niño/La Niña, the number of nodes with no in-links, $N^y$, drops dramatically (fig B), indicating that the total area influenced by the ENB is much smaller.\n",
    "\n",
    "Moreover, during El Niño/La Niña, $C^y$ increases significantly, indicating a stronger impact of the ENB in the areas that are influenced by it. We chose the 1982–1983 El Niño event to depict the evolution of ENSO impact, from its onset to its decay.\n",
    "\n",
    "Plotting the in-weights maps every 3 months, we have the evolution of the ENSO impact for a special El Niño event (1982) from onset to withdrawal:\n",
    "<img src=\"figs/fig4.png\">\n",
    "\n",
    "During the El-Niño event, the links are more localized in comparison with the beginning and the end of the event. To quantify the significance of the results, we used a randomization procedure in which we shuffled the years of each node’s time series (keeping the time ordering within each year unchanged) and then constructed the in-weighted networks.\n",
    "\n",
    "We found that $C^y \\ge 8$ and $N^y \\ge 6300$ are significant with $p$ values $< 10^{-3}$."
   ]
  },
  {
   "cell_type": "markdown",
   "metadata": {},
   "source": [
    "The success of the climate-network-based measures to detect the El Niño/La Niña events strengthens the reliability of this approach in studying climate phenomenon."
   ]
  },
  {
   "cell_type": "markdown",
   "metadata": {},
   "source": [
    "It is possible to classify El Niño events based on the location of their maximum SST anomalies and on their tropical midlatitude teleconnections. Here, we propose <span style=\"color:yellow;\">classifying different types of El Niño events based on the similarity between them</span>, which can be determined by the <span style=\"color:yellow;\">cross-correlations between pairs of maps</span>. \n",
    "\n",
    "We determine the significance of the cross-correlation using shuffled network maps. The shuffling is performed by dividing the map (globe) into 18 equal areas, shuffling their spatial orders for each event, and then evaluating the cross-correlation between each pair of the shuffled global network maps. Eventually, we obtain a distribution of the cross-correlation values through the shuffling process. Only correlations with $p$ values $< 0.01$ are considered as significant."
   ]
  },
  {
   "cell_type": "markdown",
   "metadata": {},
   "source": [
    "The cross-correlations between pairs of El Niño events is shown in the figure below.\n",
    "\n",
    "<img src=\"figs/fig5.jpeg\"/>\n",
    "\n",
    "It shows the community structure of the 11 l Niño events. (A–D) The heat map of cross-correlations between pairs of El Niño events, based on the global (A), tropical (B), Northern Hemisphere (C), and Southern Hemisphere (D) maps of the in-weighted climate network. (E) Community structure in the network of 11 El Niño events. Different colors represent different communities.\n",
    "\n",
    "Insignificant cross-correlation is indicated by the white color. Fig B-D show the heatmaps of cross-correlations for the different regions.\n",
    "\n",
    "Based on this heat map, the 11 El Niño events are divided into three groups with extended white areas separating them, indicating that El Niño events within the same group tend to have similar global impact patterns. Furthermore, we divide the globe into three regions, approximately equal in area: \"Tropics\" (20°S to 20°N), \"North\" (20°N to 90°N), and \"South\" (20°S to 90°S). Then, separately for each region, we calculate the cross-correlations between the map pairs of the in-weighted climate network. The significant cross-correlations are also determined by $p$ values $<0.01$, by shuffling the spatial orders of nodes within the same regions. \n",
    "\n",
    "We find that the global similarity structure receives different contributions from different regions. More specifically, the heat map for the Tropics region (fig B) is much more similar to the heat map for the global area (fig A), in comparison with the other two regions, indicating that the impact of El Niño in the tropics dominates the classification of El Niño events. "
   ]
  },
  {
   "cell_type": "markdown",
   "metadata": {},
   "source": [
    "We also construct the matrix of similarity of El Niño events based on the mean winter temperature anomaly and find that it is consistent with the network-based similarity structure.\n",
    "\n",
    "<img src=\"figs/fig6.png\"/>\n",
    "\n",
    "The community structure of 11 El Niño events.\n",
    "\n",
    "(a) The heat map of cross-correlations between pairs of El Niño events, based on the global maps of the \"in\"-weighted climate network. Here, only significant values with p-values no larger than 0.01 are included.\n",
    "\n",
    "(b) The heat map of normalized scalar products between pairs of El Niño events, based on the global maps of the mean winter temperature anomaly. Here, only significant values with p-values no larger than 0.05 are included.\n",
    "\n",
    "(c) The heat map of cross-correlations between pairs of El Niño events, based on the global maps of the \"in\"-weighted climate network. Here, only pairs of years that are significantly similar in both the network structure and the temperature are included.\n",
    "\n",
    "(d) The heat map of normalized scalar products between pairs of El Niño events, based on the global maps of the mean winter temperature anomaly. Here, only pairs of years that are significantly similar in both the network structure and the temperature are included.\n"
   ]
  },
  {
   "cell_type": "markdown",
   "metadata": {},
   "source": [
    "A weighted network of the 11 El Niño years is also constructed based on the significant correlations given in the figure fig A is shown in fig E. The thickness of each link represents the correlation value between the two connected years.\n",
    "\n",
    "<img src=\"figs/fig5.jpeg\" style=\"width:50%;\"/>\n",
    "\n",
    "Then, by using a modularity optimization heuristic algorithm , our network is subdivided into three communities, which is consistent with the groups in fig A. \n",
    "\n",
    "To view the correlation patterns associated with each of the three communities, we chose three representative El Niño years (2009, 1986, and 1957), each from a different community. The in-weight maps are shown below.\n",
    "\n",
    "<img src=\"figs/fig7.png\"/>\n",
    "\n",
    "The correlation patterns are quite different from each other; the correlation coefficients between them are summarized in the figure GLOBAL fig A.\n",
    "\n"
   ]
  },
  {
   "cell_type": "markdown",
   "metadata": {},
   "source": [
    "A general pattern of El Niño/La Niña’s global impacts, as well as of their dynamical evolutions, are obtained from a time-evolving in-weighted climate network. By averaging the in-weighted degree fields of all significant El Niño/La Niña events, we identify the regions that tend to be more influenced by those events. One of the most important results of our study is that, during El Niño/La Niña periods, a smaller world area is affected by the ENB, but the impact of El Niño/La Niña is enhanced in these more localized regions. This observation is rooted in the fact that, during El Niño/La Niña, the entire ENB warms/cools; in addition, the regions that become warmer/cooler have similar/opposite tendencies with respect to the ENB. These synchronized behaviors enhance the overall correlation of the ENB with the rest of the world. However, during normal periods, part of the ENB is correlated and part is not, thus reducing the overall correlation and extending the regions of correlation.\n",
    "\n",
    "The method proposed above enables the detection of local effects of each El Niño event.\n",
    "\n",
    "Evidently, these enhanced and localized El Niño effects are associated with serious consequences in many aspects of human life.\n",
    "\n",
    "The method we propose here enables the detection of the above regions as well as other regions across the globe that are affected by ENSO."
   ]
  },
  {
   "cell_type": "markdown",
   "metadata": {},
   "source": [
    "<img src=\"figs/fig8.png\"/>\n",
    "\n",
    "The cross-correlation function for three “in”-link examples from the ENB (which are mentioned in Fig. 1 (a) and (b)).\n",
    "\n",
    "(a) From the ENB to Chicualacuala in Mozambique during the 2009-2010 El Niño event.\n",
    "\n",
    "(b) From the ENB to Rambaxpura in India during the 2002-2003 El Niño event.\n",
    "\n",
    "(c) From the ENB to Jundah in Australia during the 2010-2011 La Niña event.\n"
   ]
  },
  {
   "cell_type": "markdown",
   "metadata": {},
   "source": [
    "The regions affected by El Niño vary from one El Niño event to another, making it difficult to predict the impacts of an upcoming El Niño. However, it is still possible to evaluate for each region (grid point) the probability to be affected by ENB by using our climate network approach. \n",
    "\n",
    "We define the frequency $P_i$ for each node $i$ in which the in-degrees $I_i^y$ are nonzero. This $P_i$ quantifies the probability effected by ENB.\n",
    "\n",
    "\n",
    "The figure below shows the spatial distribution of frequency $P_i$ for each node $i$. The regions marked by red color have high probability (at least $\\frac{10}{11}$) effected by El Niño. It is the spatial distribution of $P_i \\ge 10$ (among 11 El Niño events); thse regions are marked by red color (indicating probability $>> 90$%)\n",
    "\n",
    "<img src=\"figs/fig9.png\"/>\n",
    "\n",
    "El Niño phenomena can lead to warming or cooling in some regions, and the warming or cooling can be quantified by using $\\text{IN}(C_i^y)$-positive values for warming effects and negative values for cooling effects."
   ]
  },
  {
   "cell_type": "markdown",
   "metadata": {},
   "source": [
    "- fig A shows the spatial distribution of positive $\\text{IN}(C_i^y)$ frequency.\n",
    "- fig B shows the spatial distribution of negative $\\text{IN}(C_i^y)$ frequency.\n",
    "\n",
    "<img src=\"figs/fig10.png\"/>\n",
    "\n",
    "The frequency for the temperature anomalies are above 1 standard deviation (fig C) and below -1 standard deviation (fig D) of normal years"
   ]
  },
  {
   "cell_type": "markdown",
   "metadata": {},
   "source": [
    "We find that some regions, such as Western North American, Western South America, South Indian, South Africa, and South Pacific, are very frequently and positively (warming) affected by El Niño; yet some regions, such as Southern South America and North Asian, are very frequently and negatively (cooling) affected.\n",
    "\n",
    "These results are consistent to some degree with the temperature anomalies during El Niño  (fig 1 E - Temperature Anomalies).\n",
    "\n",
    "To strengthen the above results, we also analyzed the frequency (during El Niño years) of the temperature anomalies to be above (fig C) or below (fig D) one SD of normal years.\n",
    "\n",
    "These results support the results obtained by using the network approach and can help to identify the regions that have the highest probability to be affected by El Niño."
   ]
  },
  {
   "cell_type": "markdown",
   "metadata": {},
   "source": [
    "### Conclusion"
   ]
  },
  {
   "cell_type": "markdown",
   "metadata": {},
   "source": [
    "Finally, according to our results, different El Niño events can drive different extreme weather conditions in different regions. For instance, the recently terminated El Niño event was distinct from most El Niño events in certain key aspects of climate disruptions. Collecting updated information is important in improving related models. Meanwhile, the detection of similarities between different El Niño events is also helpful in understanding important common aspects. We distinguish between different types of El Niño events based on the similarities between the networks of these events. \n",
    "\n",
    "According to our results, the similarities between different events are mostly due to the impacts of El Niño on Tropics (20°S to 20°N) compared with North (20°N to 90°N) and South (20°S to 90°S); the Tropics area is ~1/3 of the global world area. The methodology and results presented here may help to improve the understanding of the impacts of ENSO, and hopefully to provide the ability, in the future, to take early actions to reduce the damage caused by El Niño. The mechanism underlying the results reported above is still not clear to us, and further study, maybe related to teleconnections, is needed to explore this mechanism.\n"
   ]
  },
  {
   "cell_type": "markdown",
   "metadata": {},
   "source": [
    "# The Backbone of the Climate Network"
   ]
  },
  {
   "cell_type": "markdown",
   "metadata": {},
   "source": [
    "https://iopscience.iop.org/article/10.1209/0295-5075/87/48007/pdf\n",
    "\n",
    "09/08/2009"
   ]
  },
  {
   "cell_type": "markdown",
   "metadata": {},
   "source": [
    "### Abstract"
   ]
  },
  {
   "cell_type": "markdown",
   "metadata": {},
   "source": [
    "We propose a method to reconstruct and analyze a complex network from <span style=\"color:yellow\">data generated by a spatio-temporal dynamical system</span>, relying on the nonlinear mutual information of time series analysis and betweenness centrality of the complex network theory.\n",
    "\n",
    "This approach reveals a rich internal structure in complex climate networks constructed from reanalysis and model surface air temperature data.\n",
    "\n",
    "Our novel method uncovers peculiar <span style=\"color:yellow\">wave-like structures of high-energy flow</span>, that we relate to <span style=\"color:yellow\">global surface ocean currents</span>.\n",
    "\n",
    "This points to a major role of the oceanic surface circulation in coupling and stabilizing the global temperature field in the long-term mean (140 years for the model run and 60 years for reanalysis data). "
   ]
  },
  {
   "cell_type": "markdown",
   "metadata": {},
   "source": [
    "### Introduction"
   ]
  },
  {
   "cell_type": "markdown",
   "metadata": {},
   "source": [
    "The **<span style=\"color:green\">vertices</span>** of a climate network are identified with the <span style=\"color:green\">spatial grid points</span> of an underlying global climate data set. \n",
    "\n",
    "**<span style=\"color:green\">Edges</span>** are added between pairs of vertices depending on the <span style=\"color:green\">degree of statistical interdependence between the corresponding pairs of anomaly time series</span> taken from the climate data set."
   ]
  },
  {
   "cell_type": "markdown",
   "metadata": {},
   "source": [
    "Climate networks enable novel insights into the topology and dynamics of the climate system over many spatial scales ranging from local properties as the number of first neighbors of a vertex $v$ (the _degree centrality_ $k_v$) to global network measures such as the _clustering coefficient_ or the _average path length_.\n",
    "\n",
    "The local degree centrality and related measures have been used to identify supernodes (regions of high degree centrality) and to associate them to known dynamical interrelations in the atmosphere, called teleconnection patterns, most notably the North Atlantic Oscillation (NAO).\n",
    "\n",
    "On the global scale, climate networks were found to possess **small-world** properties due to long-range connections (edges linking geographically very distant vertices) that stabilize the climate system and enhance the energy and information transfer within it.\n",
    "\n",
    "By studying the prevalence of long-range connections in El Niño and La Niña climate networks and the time dependence of the number of stable edges, it has been shown very recently that the El Niño-Southern Oscillation (ENSO) has a strong impact on the stability of the climate system."
   ]
  },
  {
   "cell_type": "markdown",
   "metadata": {},
   "source": [
    "Until now, researchers have used the _<span style=\"color:gray\">linear cross-correlation</span>_ function of pairs of anomaly time series to quantify the degree of statistical interdependence between different spatial regions. But the highly nonlinear processes at work in the climate system call for the application of *nonlinear* methods to obtain more reliable results. \n",
    "\n",
    "Here we also use <span style=\"color:orange\">mutual information</span> to construct climate networks allowing to capture linear and nonlinear relationships between time series. Furthermore we use a measure of vertex centrality, <span style=\"color:orange\">betweenness (BC)</span>, that is defined locally but takes into account global topological information. \n",
    "\n",
    "Combining these two techniques, we uncover peculiar wave-like structures in the BC fields of climate networks constructed from monthly averaged reanalysis and atmosphere-ocean coupled general circulation model (AOGCM) surface air temperature (SAT) data. Akin to the homonymous data highways of the internet, <span style=\"color:yellow\">these BC structures form the backbone of the SAT network</span>, bundling most of the energy flow between remote regions.\n",
    "\n",
    "Some major features of the <span style=\"color:yellow\">backbone</span> appear to be closely related to surface ocean currents pointing to an essential <span style=\"color:yellow\">role of the oceanic surface circulation in stabilizing the climate system by promoting the global flow of energy</span>, mainly in the form of heat.\n",
    "\n",
    "These insights are conceptually new and cannot be obtained using classical methods of climatology such as principal component analysis (PCA) or singular spectrum analysis (SSA) of anomaly fields, because these are by design local in a network sense and are not suitable to study local flow measures depending on a global network topology.\n"
   ]
  },
  {
   "cell_type": "markdown",
   "metadata": {},
   "source": [
    "The methodology developed in this letter has the potential to be universally applicable to extract the energy, matter or information flow structure in any spatially extended dynamical system from observations taken from the real world, experiments and simulations."
   ]
  },
  {
   "cell_type": "markdown",
   "metadata": {},
   "source": [
    "### Data"
   ]
  },
  {
   "cell_type": "markdown",
   "metadata": {},
   "source": [
    "We utilize the monthly averaged global SAT field to construct climate networks, that allows to directly capture the complex dynamics on the interface between ocean and atmosphere due to heat exchange and other local processes.\n",
    "\n",
    "SAT therefore enables us to study atmospheric as well as oceanic dynamics using the same climate network. \n",
    "\n",
    "We use reanalysis data provided by the National Center for Environmental Prediction/National Center for Atmospheric Research (NCEP/NCAR) and model output from the World Climate Research Programme’s (WCRP’s) Coupled Model Intercomparison Project phase 3 (CMIP3) multimodel data set. For optimal comparability with the reanalysis data, we choose a 20th century reference run (20c3m, as defined in the IPCC AR4) by the Hadley Centre HadCM3 model.\n"
   ]
  },
  {
   "cell_type": "markdown",
   "metadata": {},
   "source": [
    "##### Reanalysis Data\n",
    "- **Definition**: Reanalysis data is a combination of historical observational data and numerical weather prediction models. It's essentially a retrospective analysis of past weather data, where historical observations are integrated with modern models to produce a consistent and comprehensive dataset.\n",
    "- **NCEP/NCAR Reanalysis**: This is a well-known reanalysis dataset provided by the National Center for Environmental Prediction (NCEP) and the National Center for Atmospheric Research (NCAR). It covers global weather data and is often used for climate studies.\n",
    "\n",
    "#### Model Output\n",
    "- **Definition**: Model output refers to data generated from climate models, which are simulations of the Earth's climate system based on various physical principles and equations.\n",
    "- **CMIP3 Multimodel Data Set**: This dataset is part of the World Climate Research Programme’s (WCRP) Coupled Model Intercomparison Project phase 3 (CMIP3). It involves multiple climate models from different research institutions worldwide, used for comparing and understanding climate projections.\n",
    "- **HadCM3 Model**: The Hadley Centre Coupled Model, version 3 (HadCM3), is one of the models included in the CMIP3 dataset. It is developed by the Hadley Centre and is widely used for climate simulation and projection.\n",
    "\n",
    "#### Specifics in the Article\n",
    "- **Comparability**: To ensure that the model output is comparable with the reanalysis data, the authors use a specific simulation from the HadCM3 model called the \"20th century reference run (20c3m).\" This simulation is designed to replicate climate conditions from the 20th century based on historical data and is defined by the Intergovernmental Panel on Climate Change (IPCC) in its Fourth Assessment Report (AR4).\n",
    "  \n",
    "The aim is to study and compare historical climate data with simulated climate conditions."
   ]
  },
  {
   "cell_type": "markdown",
   "metadata": {},
   "source": [
    "A data set consists of a regular spatio-temporal grid with time series $x_i(t)$ associated to every spatial grid point $i$ at latitude $\\lambda_i$ and longitude $\\phi_i$. Start and end dates, length of time series $\\tau$, latitudinal resolution $\\Delta\\lambda$, longitudinal resolution $\\Delta\\phi$ and the number of vertices of the corresponding global climate network $N$ are given in the table below.\n",
    "\n",
    "- $x_i(t)$: time series\n",
    "- $i$: grid point\n",
    "- $\\lambda_i$: grid point latitude\n",
    "- $\\phi_i$: grid point longitude\n",
    "- $\\tau$: length of the time series, in months\n",
    "- $\\Delta\\lambda$: latitudinal resolution\n",
    "\n",
    "\n",
    "|               | NCEP/NCAR         | HadCM3           |\n",
    "|---------------|--------------------|------------------|\n",
    "| Period   | 01/1948–12/2007    | 01/1860–12/1999  |\n",
    "| $\\tau$ (months)  | 720                | 1680             |\n",
    "| $\\Delta\\lambda$ (°) | 2.5                | 2.5              |\n",
    "| $\\Delta\\phi$ (°) | 2.5                | 3.75             |\n",
    "| $N$         | 10224              | 6816             |\n",
    "\n"
   ]
  },
  {
   "cell_type": "markdown",
   "metadata": {},
   "source": [
    "### Methodology"
   ]
  },
  {
   "cell_type": "markdown",
   "metadata": {},
   "source": [
    "To minimize the bias introduced by the external solar forcing common to all time series in the data set, we calculate anomaly time series $a_i(t)$ from the $x_i(t)$ (removes the mean annual cycle by phase averaging). Using only data from a particular season to avoid biases due to this effect does not alter our results substantially, so that we choose to use the whole data set for a more accurate evaluation of interdependence. Furthermore we normalize the anomaly time series to zero mean and unit variance."
   ]
  },
  {
   "cell_type": "markdown",
   "metadata": {},
   "source": [
    "Mutual information (MI) is a measure from information theory, that can be interpreted as the excess amount of information generated by falsely assuming the two time series $a_i$ and $a_j$ to be independent, and is able to detect linear as well as nonlinear relationships. MI can be estimated using\n",
    "\n",
    "$$\n",
    "M_{ij} = \\sum_{\\mu \\nu} p_{ij}(\\mu, \\nu) \\log \\frac{p_{ij}(\\mu, \\nu)}{p_i(\\mu)p_j(\\nu)},\n",
    "$$\n",
    "\n",
    "where $p_i(\\mu)$ is the probability density function (PDF) of the time series $a_i$, and $p_{ij}(\\mu, \\nu)$ is the joint PDF of a pair $(a_i, a_j)$. By definition, $M_{ij}$ is symmetric, so that $M_{ij} = M_{ji}$. Note that in principle, one can evaluate a time delayed MI. This is appropriate when studying climate networks on smaller time scales using data sets with (sub-)diurnal resolution. However, in the present work, we intend to study long-term structural properties of the climate system on a scale of $O(10^2)$ years using monthly averaged data. Most physical mechanisms of global information transfer in the SAT field such as travelling Rossby waves, heat exchange between ocean and atmosphere or the advection of heat by surface currents in the ocean act at time scales of less than one month. Therefore, it is reasonable to calculate MI at zero lag between anomaly time series."
   ]
  },
  {
   "cell_type": "markdown",
   "metadata": {},
   "source": [
    "We now construct the climate network by thresholding the MI matrix $M_{ij}$, i.e., only pairs of vertices $(i, j)$ that satisfy $M_{ij} > \\tau$ are regarded as linked, where $\\tau$ is the threshold. Using the Heaviside function $\\Theta(x)$, the adjacency matrix $A_{ij}$ of the climate network is given by \n",
    "\n",
    "$$ A_{ij} = \\Theta(M_{ij} - \\tau) - \\delta_{ij} $$\n",
    "\n",
    "where $\\delta_{ij}$ is the Kronecker delta. \n",
    "\n",
    "$$\n",
    "\\delta_{ij} = \n",
    "\\begin{cases} \n",
    "1 & \\text{if } i = j \\\\\n",
    "0 & \\text{if } i \\neq j \n",
    "\\end{cases}\n",
    "$$\n",
    "\n",
    "Note that $A_{ij}$ inherits its symmetry from $M_{ij}$ and the resulting climate network is an undirected and unweighted simple graph. One could construct a network with edges $(i, j)$ weighted by $M_{i,j}$."
   ]
  },
  {
   "cell_type": "markdown",
   "metadata": {},
   "source": [
    "We find that network characteristics, such as BC, clustering coefficient, and average path length, are dependent on the choice of the threshold $\\tau$. When comparing climate networks constructed from AOGCM and reanalysis data, it is consequently more meaningful to constrain the edge density $\\rho = \\frac{2E}{N(N-1)}$, where $E$ gives the total number of edges, than to fix $\\tau$ as it was done in all earlier works. The threshold $\\tau = \\tau(\\rho)$ is thus chosen to yield a prescribed edge density $\\rho$. The PDF of MI $P(M)$ over all pairs $M_{ij}$ is found to have a connected support, so that the edge density function $\\rho(\\tau) = \\int_{\\tau}^{\\infty} dMP(M)$ is strictly monotonic decreasing with $\\tau$ and induces a one-to-one correspondence between $\\tau$ and $\\rho$. Note that the backbone of the climate network is most clearly observed at small $\\rho$ with corresponding large threshold $\\tau$, that is very unlikely to be exceeded by chance, as we reassured using significance tests based on randomly shuffled time series, Fourier surrogates, and twin surrogates. We fix the edge density at $\\rho = 0.005$, resulting in thresholds of $\\tau_1 = 0.398$ for the HadCM3 data and $\\tau_2 = 0.624$ for the reanalysis data. The remaining 0.5% of all possible edges correspond to statistically significant and robust relationships. In concordance with this observation, we find that small variations of $\\rho$ from the chosen value do not alter the backbone structure significantly. The remaining edges are distributed heterogeneously as they attach preferentially to pronounced supernodes, their range extending from local to global (teleconnections), which is consistent with earlier works.\n",
    "\n"
   ]
  },
  {
   "cell_type": "markdown",
   "metadata": {},
   "source": [
    "Having constructed a climate network, we can finally quantify the importance of a small part of the Earth's surface (represented by a single vertex $v$) for the global flow of energy within the SAT field, that gives rise to the pairwise dynamical interdependencies measured by MI. Vertices play distinct roles in the energy transmission throughout the network, some of them show a higher capability as compared to others. This capability can be quantified by the betweenness $BC_v$. Assume that energy travels through the network on shortest paths. We then regard a vertex $v$ to be important for the energy transport in the network, if it is traversed by a large number of all existing shortest paths. The betweenness centrality is defined as\n",
    "\n",
    "$$\n",
    "BC_v = \\sum_{i,j \\neq v} \\frac{\\sigma_{ij}(v)}{\\sigma_{ij}}, \\forall v \\in (1, \\ldots, N)\n",
    "$$\n",
    "\n",
    "where\n",
    "- $\\sigma_{ij}(v)$: number of shortest paths between vertices $i$ and $j$ that pass through $v$\n",
    "- $\\sigma_{ij}$: total number of shortest paths between $i$ and $j$\n",
    "\n",
    "The contribution of shortest paths is weighted by their respective multiplicity $\\sigma_{ij}$. Because the shortest paths considered contain only edges corresponding to pairs of highly dynamically interrelated time series, BC can be interpreted as a local measure of dynamical information flow. Since we use it to analyze a temperature field we nevertheless prefer to view BC more fundamentally as a measure of the flow of energy, mainly in the form of heat. BC is conceptually distinct from other commonly used vertex centrality measures, *e.g.*, degree and closeness centrality, and hence enables us to uncover interesting novel structural features of climate networks.\n"
   ]
  },
  {
   "cell_type": "markdown",
   "metadata": {},
   "source": [
    "### Results"
   ]
  },
  {
   "cell_type": "markdown",
   "metadata": {},
   "source": [
    "We uncover peculiar wave-like structures of high BC in fields of both reanalysis and model SAT climate networks\n",
    "\n",
    "<img src=\"figs/fig101a.png\"/>\n",
    "<img src=\"figs/fig101b.png\"/>\n",
    "<img src=\"figs/fig101c.png\"/>\n",
    "\n",
    " a) BC for the NCEP/NCAR reanalysis SAT MI network.\n",
    " b) for the HadCM3 SAT network. Both networks are constructed at edge density $\\rho = 0.005$ using MI. \n",
    " c) A schematic map of global surface ocean currents. \n",
    " \n",
    " Note that some features of the backbone in a) and b) correspond closely to ocean surface currents shown in c), *e.g.*, the Alaska, Peru, and Canary currents.\n"
   ]
  }
 ],
 "metadata": {
  "kernelspec": {
   "display_name": "Python 3",
   "language": "python",
   "name": "python3"
  },
  "language_info": {
   "codemirror_mode": {
    "name": "ipython",
    "version": 3
   },
   "file_extension": ".py",
   "mimetype": "text/x-python",
   "name": "python",
   "nbconvert_exporter": "python",
   "pygments_lexer": "ipython3",
   "version": "3.12.2"
  }
 },
 "nbformat": 4,
 "nbformat_minor": 2
}
